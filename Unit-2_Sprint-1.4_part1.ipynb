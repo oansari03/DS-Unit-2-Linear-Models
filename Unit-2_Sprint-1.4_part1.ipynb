{
  "nbformat": 4,
  "nbformat_minor": 0,
  "metadata": {
    "colab": {
      "name": "DS38_2021-04-08_213-guided-project-notes_REVISED.ipynb",
      "provenance": [],
      "collapsed_sections": [],
      "include_colab_link": true
    },
    "kernelspec": {
      "name": "python3",
      "display_name": "Python 3"
    }
  },
  "cells": [
    {
      "cell_type": "markdown",
      "metadata": {
        "id": "view-in-github",
        "colab_type": "text"
      },
      "source": [
        "<a href=\"https://colab.research.google.com/github/oansari03/DS-Unit-2-Linear-Models/blob/master/Unit2-Module-4-part1.ipynb\" target=\"_parent\"><img src=\"https://colab.research.google.com/assets/colab-badge.svg\" alt=\"Open In Colab\"/></a>"
      ]
    },
    {
      "cell_type": "code",
      "metadata": {
        "id": "k0dvbuCzd5qK"
      },
      "source": [
        "# Model Building\n",
        "from sklearn.feature_selection import SelectKBest, f_regression\n",
        "from sklearn.linear_model import LinearRegression, Ridge\n",
        "from sklearn.metrics import mean_absolute_error, mean_squared_error\n",
        "from sklearn.pipeline import make_pipeline\n",
        "import numpy as np\n",
        "import matplotlib.pyplot as plt\n",
        "import pandas as pd\n",
        "\n",
        "# For running this notebook either locally or in colab\n",
        "import sys"
      ],
      "execution_count": null,
      "outputs": []
    },
    {
      "cell_type": "code",
      "metadata": {
        "id": "wz7tyC22gLEA"
      },
      "source": [
        "%%capture\n",
        "# If you're on Colab:\n",
        "if 'google.colab' in sys.modules:\n",
        "    DATA_PATH = 'https://raw.githubusercontent.com/LambdaSchool/DS-Unit-2-Applied-Modeling/master/data/'\n",
        "    !pip install category_encoders==2.*\n",
        "\n",
        "# If you're working locally:\n",
        "else:\n",
        "    DATA_PATH = '../data/'"
      ],
      "execution_count": null,
      "outputs": []
    },
    {
      "cell_type": "code",
      "metadata": {
        "id": "eK1JmTLj8wFC"
      },
      "source": [
        "# For encoding categorical data\n",
        "from category_encoders import OneHotEncoder"
      ],
      "execution_count": null,
      "outputs": []
    },
    {
      "cell_type": "markdown",
      "metadata": {
        "id": "c9XvBGFMguJ1"
      },
      "source": [
        "# NYC Rent\n",
        "\n",
        "**GOAL:** Improve our model for predicting NYC rent prices.\n",
        "\n",
        "**Objectives**\n",
        "\n",
        "- Do one-hot encoding of categorical features\n",
        "- Do univariate feature selection\n",
        "- Use scikit-learn to fit Ridge Regression models"
      ]
    },
    {
      "cell_type": "markdown",
      "metadata": {
        "id": "0kaV7oNahJLj"
      },
      "source": [
        "# I. Wrangle Data"
      ]
    },
    {
      "cell_type": "markdown",
      "metadata": {
        "id": "iOecYDRyx5m-"
      },
      "source": [
        "Create **wrangle function** for **reproducibility**."
      ]
    },
    {
      "cell_type": "code",
      "metadata": {
        "id": "m9Dm3h3Ux5AI"
      },
      "source": [
        "def wrangle(filepath):\n",
        "  df = pd.read_csv(filepath,\n",
        "                   parse_dates=['created'],\n",
        "                   index_col='created').sort_index()\n",
        "  \n",
        "  # Remove outlier observations\n",
        "  df = df[(df['price'] >= np.percentile(df['price'], 0.05)) & \n",
        "          (df['price'] <= np.percentile(df['price'], 99.5)) & \n",
        "          (df['latitude'] >= np.percentile(df['latitude'], 0.05)) & \n",
        "          (df['latitude'] < np.percentile(df['latitude'], 99.95)) &\n",
        "          (df['longitude'] >= np.percentile(df['longitude'], 0.05)) & \n",
        "          (df['longitude'] <= np.percentile(df['longitude'], 99.95))]\n",
        "\n",
        "  # Drop high-cardinality categorical variables\n",
        "  cutoff = 5\n",
        "  drop_cols = [col for col in df.select_dtypes('object').columns\n",
        "              if df[col].nunique() > cutoff]\n",
        "  df.drop(columns=drop_cols, inplace=True)\n",
        "\n",
        "  return df\n",
        "\n",
        "df = wrangle(DATA_PATH+'apartments/renthop-nyc.csv')"
      ],
      "execution_count": null,
      "outputs": []
    },
    {
      "cell_type": "code",
      "metadata": {
        "id": "_FkzVFxrX40L"
      },
      "source": [
        "df.head()"
      ],
      "execution_count": null,
      "outputs": []
    },
    {
      "cell_type": "code",
      "metadata": {
        "id": "Q5Wg9wSJPHND"
      },
      "source": [
        "df.info()"
      ],
      "execution_count": null,
      "outputs": []
    },
    {
      "cell_type": "markdown",
      "metadata": {
        "id": "Fr-x5LJo0pRc"
      },
      "source": [
        "# II. Split Data\n",
        "\n",
        "Split **target vector** from **feature matrix**."
      ]
    },
    {
      "cell_type": "code",
      "metadata": {
        "id": "r2TXo5xLo662"
      },
      "source": [
        "target = 'price'\n",
        "y = df[target]\n",
        "X = df.drop(columns=target)"
      ],
      "execution_count": null,
      "outputs": []
    },
    {
      "cell_type": "markdown",
      "metadata": {
        "id": "ZMoRDMuT7A7q"
      },
      "source": [
        "Split data into **training** and **test** sets.\n",
        "\n",
        "(Use data from April & May 2016 to train. Use data from June 2016 to test.)"
      ]
    },
    {
      "cell_type": "code",
      "metadata": {
        "id": "7w92aZ7co9CA"
      },
      "source": [
        "cutoff = '2016-06-01'\n",
        "mask = X.index < cutoff\n",
        "\n",
        "X_train, y_train = X.loc[mask], y.loc[mask]\n",
        "X_test, y_test = X.loc[~mask], y.loc[~mask]"
      ],
      "execution_count": null,
      "outputs": []
    },
    {
      "cell_type": "markdown",
      "metadata": {
        "id": "-x9lFKmupRWk"
      },
      "source": [
        "# III. Establish Baseline"
      ]
    },
    {
      "cell_type": "markdown",
      "metadata": {
        "id": "d1BOKNBc7Jnf"
      },
      "source": [
        "**Note:** This is a **regression** problem because we're predictiong the continuous value `'price'`."
      ]
    },
    {
      "cell_type": "code",
      "metadata": {
        "id": "-XNZHgf-7XQc",
        "colab": {
          "base_uri": "https://localhost:8080/"
        },
        "outputId": "69cf5a03-f3b7-4e1c-be9e-c6f1c7395f37"
      },
      "source": [
        "y_pred = [y_train.mean()] * len(y_train)\n",
        "print('Mean price:', y_train.mean())\n",
        "print('Baseline MAE:', mean_absolute_error(y_train, y_pred))"
      ],
      "execution_count": null,
      "outputs": [
        {
          "output_type": "stream",
          "name": "stdout",
          "text": [
            "Mean price: 3565.095561112848\n",
            "Baseline MAE: 1203.9726810650523\n"
          ]
        }
      ]
    },
    {
      "cell_type": "markdown",
      "metadata": {
        "id": "Xea7aFidqPoV"
      },
      "source": [
        "# IV. Build Models\n",
        "\n",
        "Combine transformers and predictor with `Pipeline`."
      ]
    },
    {
      "cell_type": "code",
      "metadata": {
        "id": "sgE40gEBdNUX"
      },
      "source": [
        "# # # Step 1: Import your transformer class\n",
        "# # # We did above ☝️\n",
        "\n",
        "# # # Step 2: Instantiate your transformer\n",
        "# ohe = OneHotEncoder(use_cat_names=True)\n",
        "\n",
        "# # # Step 3: Fit your transformer to the TRAINING data\n",
        "# ohe.fit(X_train)\n",
        "\n",
        "# # # Step 4: Transform my training and test data\n",
        "# XT_train = ohe.transform(X_train)\n",
        "# XT_test = ohe.transform(X_test)"
      ],
      "execution_count": null,
      "outputs": []
    },
    {
      "cell_type": "markdown",
      "metadata": {
        "id": "gMjtQqeVQufl"
      },
      "source": [
        "**Model 2:** Ridge regression (regularization)"
      ]
    },
    {
      "cell_type": "code",
      "metadata": {
        "id": "CFuHUaCodeft"
      },
      "source": [
        "# model_r = Ridge(alpha=1.0)\n",
        "# model_r.fit(XT_train, y_train)"
      ],
      "execution_count": null,
      "outputs": []
    },
    {
      "cell_type": "code",
      "metadata": {
        "id": "ZRs-fAaeQt1e",
        "colab": {
          "base_uri": "https://localhost:8080/"
        },
        "outputId": "0e91a951-aa40-4482-d239-c3ae8194eacb"
      },
      "source": [
        "model_r = make_pipeline(\n",
        "    OneHotEncoder(use_cat_names=True),\n",
        "    Ridge(alpha=1.0)\n",
        ")\n",
        "\n",
        "model_r.fit(X_train, y_train)"
      ],
      "execution_count": null,
      "outputs": [
        {
          "output_type": "execute_result",
          "data": {
            "text/plain": [
              "Pipeline(steps=[('onehotencoder',\n",
              "                 OneHotEncoder(cols=['interest_level'], use_cat_names=True)),\n",
              "                ('ridge', Ridge())])"
            ]
          },
          "metadata": {},
          "execution_count": 11
        }
      ]
    },
    {
      "cell_type": "markdown",
      "metadata": {
        "id": "rHhIH6VE0iRH"
      },
      "source": [
        "# V. Check Metrics"
      ]
    },
    {
      "cell_type": "code",
      "metadata": {
        "id": "BXrqHj_lHPum",
        "colab": {
          "base_uri": "https://localhost:8080/"
        },
        "outputId": "713182a7-b792-44f4-fbb0-6b372febf662"
      },
      "source": [
        "print('Ridge training MAE:', mean_absolute_error(y_train, model_r.predict(X_train)))\n",
        "print('Ridge test MAE:', mean_absolute_error(y_test, model_r.predict(X_test)))"
      ],
      "execution_count": null,
      "outputs": [
        {
          "output_type": "stream",
          "name": "stdout",
          "text": [
            "Ridge training MAE: 672.0351683623255\n",
            "Ridge test MAE: 675.6640925954134\n"
          ]
        }
      ]
    },
    {
      "cell_type": "markdown",
      "metadata": {
        "id": "siCJsyz9WeKr"
      },
      "source": [
        "# VI. Tune Model"
      ]
    },
    {
      "cell_type": "markdown",
      "metadata": {
        "id": "NnTbGxvddybM"
      },
      "source": [
        "** Interlude: How do you know what the best hyperparameter values are? **"
      ]
    },
    {
      "cell_type": "code",
      "metadata": {
        "id": "37cNUoQ2XPhL",
        "colab": {
          "base_uri": "https://localhost:8080/"
        },
        "outputId": "6c30f3cc-a31f-4095-a2e6-4c9b532df9bd"
      },
      "source": [
        "alphas = np.arange(1.0, 20.5, 0.5)\n",
        "train_mae = []\n",
        "test_mae=[]\n",
        "\n",
        "for a in alphas:\n",
        "  model_r = make_pipeline(\n",
        "      OneHotEncoder(use_cat_names=True),\n",
        "      Ridge(alpha=a)\n",
        "  )\n",
        "\n",
        "  model_r.fit(X_train, y_train)\n",
        "  print('trained with alpha:',a)\n",
        "  train_mae.append(mean_absolute_error(y_train, model_r.predict(X_train)))\n",
        "  test_mae.append(mean_absolute_error(y_test, model_r.predict(X_test)))"
      ],
      "execution_count": null,
      "outputs": [
        {
          "output_type": "stream",
          "name": "stdout",
          "text": [
            "trained with alpha: 1.0\n",
            "trained with alpha: 1.5\n",
            "trained with alpha: 2.0\n",
            "trained with alpha: 2.5\n",
            "trained with alpha: 3.0\n",
            "trained with alpha: 3.5\n",
            "trained with alpha: 4.0\n",
            "trained with alpha: 4.5\n",
            "trained with alpha: 5.0\n",
            "trained with alpha: 5.5\n",
            "trained with alpha: 6.0\n",
            "trained with alpha: 6.5\n",
            "trained with alpha: 7.0\n",
            "trained with alpha: 7.5\n",
            "trained with alpha: 8.0\n",
            "trained with alpha: 8.5\n",
            "trained with alpha: 9.0\n",
            "trained with alpha: 9.5\n",
            "trained with alpha: 10.0\n",
            "trained with alpha: 10.5\n",
            "trained with alpha: 11.0\n",
            "trained with alpha: 11.5\n",
            "trained with alpha: 12.0\n",
            "trained with alpha: 12.5\n",
            "trained with alpha: 13.0\n",
            "trained with alpha: 13.5\n",
            "trained with alpha: 14.0\n",
            "trained with alpha: 14.5\n",
            "trained with alpha: 15.0\n",
            "trained with alpha: 15.5\n",
            "trained with alpha: 16.0\n",
            "trained with alpha: 16.5\n",
            "trained with alpha: 17.0\n",
            "trained with alpha: 17.5\n",
            "trained with alpha: 18.0\n",
            "trained with alpha: 18.5\n",
            "trained with alpha: 19.0\n",
            "trained with alpha: 19.5\n",
            "trained with alpha: 20.0\n"
          ]
        }
      ]
    },
    {
      "cell_type": "code",
      "metadata": {
        "id": "waEB5-ZBYb_r",
        "colab": {
          "base_uri": "https://localhost:8080/",
          "height": 279
        },
        "outputId": "4bafd57a-cfee-49da-ccc7-1eac89c3f17c"
      },
      "source": [
        "plt.plot(alphas, train_mae, color='orange', label='training')\n",
        "plt.plot(alphas, test_mae, color='blue', label='test')\n",
        "plt.xlabel('alpha')\n",
        "plt.ylabel('mean absolute error')\n",
        "plt.legend();"
      ],
      "execution_count": null,
      "outputs": [
        {
          "output_type": "display_data",
          "data": {
            "text/plain": [
              "<Figure size 432x288 with 1 Axes>"
            ],
            "image/png": "[encoded data removed]"
          },
          "metadata": {
            "needs_background": "light"
          }
        }
      ]
    },
    {
      "cell_type": "markdown",
      "metadata": {
        "id": "uI9K2OXDWThQ"
      },
      "source": [
        "# VII. Communicate results"
      ]
    },
    {
      "cell_type": "code",
      "metadata": {
        "id": "RlAyipCNav1H",
        "colab": {
          "base_uri": "https://localhost:8080/",
          "height": 295
        },
        "outputId": "2a659146-4b1d-408a-816e-9e4c9cec1b2e"
      },
      "source": [
        "coefficients = model_r.named_steps['ridge'].coef_\n",
        "features = model_r.named_steps['onehotencoder'].get_feature_names()\n",
        "feat_imp = pd.Series(coefficients, index=features).sort_values(key=abs)\n",
        "feat_imp.tail(20).plot(kind='barh')\n",
        "plt.xlabel('Coefficient [$]')\n",
        "plt.ylabel('Feature')\n",
        "plt.title('Coefficients for Ridge Regression');"
      ],
      "execution_count": null,
      "outputs": [
        {
          "output_type": "display_data",
          "data": {
            "text/plain": [
              "<Figure size 432x288 with 1 Axes>"
            ],
            "image/png": "[encoded data removed]"
          },
          "metadata": {
            "needs_background": "light"
          }
        }
      ]
    },
    {
      "cell_type": "code",
      "metadata": {
        "id": "kGaaKSUXaeGo"
      },
      "source": [
        ""
      ],
      "execution_count": null,
      "outputs": []
    }
  ]
}
